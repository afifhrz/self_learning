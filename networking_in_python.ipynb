{
  "nbformat": 4,
  "nbformat_minor": 0,
  "metadata": {
    "colab": {
      "name": "networking_in_python.ipynb",
      "provenance": [],
      "authorship_tag": "ABX9TyO3z3S+gPO2kljopRI/Q8oi",
      "include_colab_link": true
    },
    "kernelspec": {
      "name": "python3",
      "display_name": "Python 3"
    },
    "language_info": {
      "name": "python"
    }
  },
  "cells": [
    {
      "cell_type": "markdown",
      "metadata": {
        "id": "view-in-github",
        "colab_type": "text"
      },
      "source": [
        "<a href=\"https://colab.research.google.com/github/afifhrz/python_for_everybody_FCC/blob/main/networking_in_python.ipynb\" target=\"_parent\"><img src=\"https://colab.research.google.com/assets/colab-badge.svg\" alt=\"Open In Colab\"/></a>"
      ]
    },
    {
      "cell_type": "code",
      "execution_count": 1,
      "metadata": {
        "id": "HAELeZDsfgWC",
        "colab": {
          "base_uri": "https://localhost:8080/"
        },
        "outputId": "f3f7a386-e101-414d-e6fe-b7b23f76495e"
      },
      "outputs": [
        {
          "output_type": "stream",
          "name": "stdout",
          "text": [
            "HTTP/1.1 200 OK\r\n",
            "Date: Tue, 25 Jan 2022 13:34:10 GMT\r\n",
            "Server: Apache/2.4.18 (Ubuntu)\r\n",
            "Last-Modified: Sat, 13 May 2017 11:22:22 GMT\r\n",
            "ETag: \"a7-54f6609245537\"\r\n",
            "Accept-Ranges: bytes\r\n",
            "Content-Length: 167\r\n",
            "Cache-Control: max-age=0, no-cache, no-store, must-revalidate\r\n",
            "Pragma: no-cache\r\n",
            "Expires: Wed, 11 Jan 1984 05:00:00 GMT\r\n",
            "Connection: close\r\n",
            "Content-Type: text/plain\r\n",
            "\r\n",
            "But soft what light through yonder window breaks\n",
            "It is the east and Juliet is the sun\n",
            "Arise fair sun and kill the envious moon\n",
            "Who is already sick and pale with grief\n"
          ]
        }
      ],
      "source": [
        "import socket\n",
        "\n",
        "mysock = socket.socket(socket.AF_INET, socket.SOCK_STREAM)\n",
        "mysock.connect(('data.pr4e.org', 80))\n",
        "cmd = 'GET http://data.pr4e.org/romeo.txt HTTP/1.0\\r\\n\\r\\n'.encode()\n",
        "mysock.send(cmd)\n",
        "\n",
        "while True:\n",
        "    data = mysock.recv(512)\n",
        "    if len(data) < 1:\n",
        "        break\n",
        "    print(data.decode(),end='')\n",
        "mysock.close()"
      ]
    }
  ]
}